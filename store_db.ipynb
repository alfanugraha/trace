{
 "cells": [
  {
   "cell_type": "code",
   "execution_count": 1,
   "metadata": {},
   "outputs": [],
   "source": [
    "import sys\n",
    "import requests\n",
    "import json\n",
    "import pandas as pd\n",
    "import numpy as np\n",
    "\n",
    "from sqlalchemy import create_engine\n",
    "pd.set_option('display.max_columns', 100)\n",
    "pd.set_option('display.max_rows', 100)"
   ]
  },
  {
   "cell_type": "code",
   "execution_count": 2,
   "metadata": {},
   "outputs": [],
   "source": [
    "def getFormMetadata(url, title, username, password):\n",
    "    auth = auth = (username, password)\n",
    "    response = requests.get(url, auth=auth)\n",
    "\n",
    "    if(response.status_code == 200):\n",
    "        print(\"form metadata request successfull\")\n",
    "        data = response.json()\n",
    "    else:\n",
    "        print(f\"form metadata request failed with status code: {response.status_code}\")\n",
    "        print(response.text)\n",
    "\n",
    "    if(len(data) == 0):\n",
    "        return -1\n",
    "\n",
    "    for form in data:\n",
    "        if form[\"title\"] == title:\n",
    "            metadata = {\"title\": title,\n",
    "                        \"formid\": form[\"id_string\"],\n",
    "                        \"uuid\": form[\"uuid\"],\n",
    "                        \"code\": form[\"formid\"]}\n",
    "\n",
    "    return(metadata)"
   ]
  },
  {
   "cell_type": "code",
   "execution_count": 3,
   "metadata": {},
   "outputs": [],
   "source": [
    "def koboCsvData(url, username, password, additional = \"\"):\n",
    "    r = url + '?format=json' + additional\n",
    "    auth = (username, password)\n",
    "    response = requests.get(r, auth=auth)\n",
    "\n",
    "    if(response.status_code == 200):\n",
    "        data = pd.DataFrame(response.json())\n",
    "    else: \n",
    "        print(f\"data request failed with status code: {response.status_code}\")\n",
    "        print(response.text)\n",
    "\n",
    "    return(data)"
   ]
  },
  {
   "cell_type": "code",
   "execution_count": 4,
   "metadata": {},
   "outputs": [],
   "source": [
    "def connectToPostgres(host, port, database, user, password):\n",
    "    \"\"\"\n",
    "    Attempts to establish a connection to a PostgreSQL database using SQLAlchemy.\n",
    "\n",
    "    Args:\n",
    "        host (str): The hostname or IP address of the database server.\n",
    "        port (int): The port number on which the database server is listening.\n",
    "        database (str): The name of the database to connect to.\n",
    "        user (str): The username to use for authentication.\n",
    "        password (str): The password associated with the specified username.\n",
    "\n",
    "    Returns:\n",
    "        engine (sqlalchemy.engine.Engine): The SQLAlchemy engine object if successful, None otherwise.\n",
    "        error_message (str): An error message if the connection fails, None otherwise.\n",
    "    \"\"\"\n",
    "\n",
    "    try:\n",
    "        # Construct the database connection URL\n",
    "        connection_url = f\"postgresql://{user}:{password}@{host}:{port}/{database}\"\n",
    "\n",
    "        # Create the SQLAlchemy engine\n",
    "        engine = create_engine(connection_url)\n",
    "\n",
    "        # Test the connection by attempting to connect\n",
    "        with engine.connect() as conn:\n",
    "            print(\"Connection to PostgreSQL database successful!\")\n",
    "            return engine, None  # Return engine object and no error message\n",
    "\n",
    "    except Exception as e:\n",
    "        print(f\"Error connecting to PostgreSQL database: {e}\")\n",
    "        return None, str(e)  # Return no engine and the error message\n"
   ]
  },
  {
   "cell_type": "code",
   "execution_count": 101,
   "metadata": {},
   "outputs": [],
   "source": [
    "def getDataFromDB(con, q):\n",
    "    df = pd.read_sql_query(q, con)\n",
    "    return(df)"
   ]
  },
  {
   "cell_type": "code",
   "execution_count": 6,
   "metadata": {},
   "outputs": [
    {
     "name": "stdout",
     "output_type": "stream",
     "text": [
      "Connection to PostgreSQL database successful!\n"
     ]
    }
   ],
   "source": [
    "host = \"localhost\"\n",
    "database = \"trace_db\"\n",
    "user = \"postgres\"\n",
    "password = \"root\"\n",
    "port = \"5432\"\n",
    "engine, error_message = connectToPostgres(host=host, port=port, database=database, user=user, password=password)"
   ]
  },
  {
   "cell_type": "code",
   "execution_count": 12,
   "metadata": {},
   "outputs": [],
   "source": [
    "if engine:\n",
    "    query = \"SELECT * FROM kobo_connections WHERE is_active = 1\"\n",
    "    koboform_url = getDataFromDB(engine, query)\n",
    "else:\n",
    "    print(f\"Failed to connect: {error_message}\")\n",
    "    sys.exit(1)"
   ]
  },
  {
   "cell_type": "code",
   "execution_count": null,
   "metadata": {},
   "outputs": [],
   "source": [
    "for active_forms in range(len(koboform_url)):\n",
    "    type = koboform_url.loc[active_forms]['form_type']\n",
    "    # form pekebun\n",
    "    if type == 1:\n",
    "        form = koboform_url.loc[active_forms]\n",
    "\n",
    "        query = f\"SELECT * FROM farmers WHERE kobo_connections_id = '{form['id']}'\"\n",
    "        df_farms = getDataFromDB(engine, query)\n",
    "        if df_farms.shape[0] == 0:\n",
    "            df_pekebun = koboCsvData(form['api_url'], form['username'], form['password'])\n",
    "\n",
    "    # form kebun\n",
    "    if type == 2:\n",
    "        form = koboform_url.loc[active_forms]\n",
    "\n",
    "        q1 = f\"SELECT * FROM farms WHERE kobo_connections_id = '{form['id']}'\"\n",
    "        df_farms = getDataFromDB(engine, q1)\n",
    "\n",
    "        q2 = \"SELECT * FROM farm_mills\"\n",
    "        df_farm_mills = getDataFromDB(engine, q2)\n",
    "\n",
    "        if df_farms.shape[0] == 0:\n",
    "            df_kebun = koboCsvData(form['api_url'], form['username'], form['password'])\n",
    "            df_kebun = df_kebun.replace(['inf', 'Infinity', '-inf', '-Infinity'], np.nan)\n",
    "        else:\n",
    "            latest_submission_time = pd.to_datetime(df_farms['submission_time']).max().strftime('%Y-%m-%dT%H:%M:%S')\n",
    "            add = \"&query={\\\"_submission_time\\\":{\\\"$gt\\\":\\\"\" + latest_submission_time + \"\\\"}}\"\n",
    "            df_kebun = koboCsvData(type_2.at[1, 'api_url'], \n",
    "                                   type_2.at[1, 'username'], \n",
    "                                   type_2.at[1, 'password'], \n",
    "                                   add)\n",
    "        \n",
    "        # Add a new row (replace with your actual data)\n",
    "        new = []\n",
    "        new_farm_mills = []\n",
    "        for i in range(df_kebun.shape[0]):\n",
    "            new_row = {\n",
    "                \"id\": df_kebun['_id'].values[i],\n",
    "                \"username\":  df_kebun['username'].values[1],\n",
    "                \"interName\": df_kebun['enumInfo/interName'].values[i],\n",
    "                \"surveyDate\": df_kebun['enumInfo/surveyDate'].values[i],\n",
    "                \"farmerName\": df_kebun['farmerInfo/farmerName'].values[i],\n",
    "                \"farmer_phone\": df_kebun['farmerInfo/farmer_phone'].values[i],\n",
    "                \"ownership\": 1 if df_kebun['farmerInfo/ownership'].values[i] == 'yes' else 0,\n",
    "                \"ownerName\": df_kebun['farmerInfo/ownerName'].values[i],\n",
    "                \"owner_phone\": df_kebun['farmerInfo/owner_phone'].values[i],\n",
    "                \"district_id\": df_kebun['farmerAddress/farmerDistrict'].values[i],\n",
    "                \"sub_district_id\": df_kebun['farmerAddress/farmerSubdistrict'].values[i],\n",
    "                \"village_id\": df_kebun['farmerAddress/farmerVillage'].values[i],\n",
    "                \"address\": df_kebun['farmerAddress/detailAddress'].values[i],\n",
    "                \"plant_age\": df_kebun['plantationInfo/plant_age'].values[i],\n",
    "                \"plant_areaDoc\": df_kebun['plantationInfo/plant_areaDoc'].values[i],\n",
    "                \"plant_doc\": df_kebun['plantationInfo/plant_doc'].values[i],\n",
    "                \"plant_category\": df_kebun['plantationInfo/plant_category'].values[i],\n",
    "                \"seedcert\": df_kebun['plantationInfo/seedcert'].values[i],\n",
    "                \"seedsource\": df_kebun['plantationInfo/seedsource'].values[i],\n",
    "                \"seedsourceother\": df_kebun['plantationInfo/seedsourceother'].values[i],\n",
    "                \"seed_invoice\": df_kebun['plantationInfo/seed_invoice'].values[i],\n",
    "                \"yield_minKG\": df_kebun['plantationProd/yield_minKG'].values[i],\n",
    "                \"yield_maxKG\": df_kebun['plantationProd/yield_maxKG'].values[i],\n",
    "                \"yield_meanKG\": df_kebun['plantationProd/yield_meanKG'].values[i],\n",
    "                \"yield_meanTon\": df_kebun['plantationProd/yield_meanTon'].values[i],\n",
    "                \"harvest_period\": df_kebun['plantationProd/harvest_period'].values[i],\n",
    "                \"harvest_freqYear\": df_kebun['plantationProd/harvest_freqYear'].values[i],\n",
    "                \"plant_production\": df_kebun['plantationProd/plant_production'].values[i],\n",
    "                \"plant_productivity\": df_kebun['plantationProd/plant_productivity'].values[i],\n",
    "                \"millsNumber\": df_kebun['millsNumber'].values[i],\n",
    "                \"plant_point\": df_kebun['plantation/plant_point'].values[i],\n",
    "                \"plant_polygon\": df_kebun['plantation/plant_polygon'].values[i],\n",
    "                \"plant_polyAreaM2\": df_kebun['plantation/plant_polyAreaM2'].values[i],\n",
    "                \"plant_polyAreaHa\": df_kebun['plantation/plant_polyAreaHa'].values[i],\n",
    "                \"percent_difArea\": df_kebun['plantation/percent_difArea'].values[i],\n",
    "                \"image_url\": df_kebun['_attachments'].values[i][0]['download_url'],\n",
    "                \"submission_time\": pd.to_datetime(df_kebun['_submission_time'].values[i]).strftime('%Y-%m-%d %H:%M:%S'),\n",
    "                \"kobo_connections_id\": form['id'],\n",
    "                \"created_at\": pd.Timestamp.now().strftime('%Y-%m-%d %H:%M:%S'),\n",
    "                \"updated_at\": pd.Timestamp.now().strftime('%Y-%m-%d %H:%M:%S')\n",
    "            }  # Adjust column names and values\n",
    "            new.append(new_row)\n",
    "\n",
    "            n = len(df_kebun['numMills'][i])\n",
    "            m = df_kebun['numMills'][i]\n",
    "            index = i + 1 \n",
    "            for j in range(n):\n",
    "                new_mills_row = {\n",
    "                    \"id\": index,\n",
    "                    \"farm_id\": m[j]['numMills/traceability/millDistrict'],\n",
    "                    \"mill_id\": m[j]['numMills/traceability/millsTo'],\n",
    "                    \"created_at\": pd.Timestamp.now().strftime('%Y-%m-%d %H:%M:%S'),\n",
    "                    \"updated_at\": pd.Timestamp.now().strftime('%Y-%m-%d %H:%M:%S')\n",
    "                }\n",
    "                new_farm_mills.append(new_mills_row)\n",
    "                index = index + 1\n",
    "\n",
    "        new_df = pd.DataFrame(new)\n",
    "        df_farms = pd.concat([df_farms, new_df], ignore_index=True)\n",
    "\n",
    "        new_mill_df = pd.DataFrame(new_farm_mills)\n",
    "        df_farm_mills = pd.concat([df_farm_mills, new_mill_df], ignore_index=True)\n",
    "\n",
    "        df_farms.to_sql('farms', engine, if_exists='append', index=False)\n",
    "        df_farm_mills.to_sql('farm_mills', engine, if_exists='append', index=False)"
   ]
  },
  {
   "cell_type": "code",
   "execution_count": 166,
   "metadata": {},
   "outputs": [
    {
     "data": {
      "text/html": [
       "<div>\n",
       "<style scoped>\n",
       "    .dataframe tbody tr th:only-of-type {\n",
       "        vertical-align: middle;\n",
       "    }\n",
       "\n",
       "    .dataframe tbody tr th {\n",
       "        vertical-align: top;\n",
       "    }\n",
       "\n",
       "    .dataframe thead th {\n",
       "        text-align: right;\n",
       "    }\n",
       "</style>\n",
       "<table border=\"1\" class=\"dataframe\">\n",
       "  <thead>\n",
       "    <tr style=\"text-align: right;\">\n",
       "      <th></th>\n",
       "      <th>id</th>\n",
       "      <th>username</th>\n",
       "      <th>interName</th>\n",
       "      <th>surveyDate</th>\n",
       "      <th>farmerName</th>\n",
       "      <th>farmer_phone</th>\n",
       "      <th>ownership</th>\n",
       "      <th>ownerName</th>\n",
       "      <th>owner_phone</th>\n",
       "      <th>district_id</th>\n",
       "      <th>sub_district_id</th>\n",
       "      <th>village_id</th>\n",
       "      <th>address</th>\n",
       "      <th>plant_age</th>\n",
       "      <th>plant_areaDoc</th>\n",
       "      <th>plant_doc</th>\n",
       "      <th>plant_category</th>\n",
       "      <th>seedcert</th>\n",
       "      <th>seedsource</th>\n",
       "      <th>seedsourceother</th>\n",
       "      <th>seed_invoice</th>\n",
       "      <th>yield_minKG</th>\n",
       "      <th>yield_maxKG</th>\n",
       "      <th>yield_meanKG</th>\n",
       "      <th>yield_meanTon</th>\n",
       "      <th>harvest_period</th>\n",
       "      <th>harvest_freqYear</th>\n",
       "      <th>plant_production</th>\n",
       "      <th>plant_productivity</th>\n",
       "      <th>millsNumber</th>\n",
       "      <th>plant_point</th>\n",
       "      <th>plant_polygon</th>\n",
       "      <th>plant_polyAreaM2</th>\n",
       "      <th>plant_polyAreaHa</th>\n",
       "      <th>percent_difArea</th>\n",
       "      <th>image_url</th>\n",
       "      <th>submission_time</th>\n",
       "      <th>kobo_connections_id</th>\n",
       "      <th>created_at</th>\n",
       "      <th>updated_at</th>\n",
       "    </tr>\n",
       "  </thead>\n",
       "  <tbody>\n",
       "  </tbody>\n",
       "</table>\n",
       "</div>"
      ],
      "text/plain": [
       "Empty DataFrame\n",
       "Columns: [id, username, interName, surveyDate, farmerName, farmer_phone, ownership, ownerName, owner_phone, district_id, sub_district_id, village_id, address, plant_age, plant_areaDoc, plant_doc, plant_category, seedcert, seedsource, seedsourceother, seed_invoice, yield_minKG, yield_maxKG, yield_meanKG, yield_meanTon, harvest_period, harvest_freqYear, plant_production, plant_productivity, millsNumber, plant_point, plant_polygon, plant_polyAreaM2, plant_polyAreaHa, percent_difArea, image_url, submission_time, kobo_connections_id, created_at, updated_at]\n",
       "Index: []"
      ]
     },
     "execution_count": 166,
     "metadata": {},
     "output_type": "execute_result"
    }
   ],
   "source": [
    "query = f\"SELECT * FROM farms WHERE kobo_connections_id = '{form['id']}'\"\n",
    "df_farms = getDataFromDB(engine, query)\n",
    "df_farms"
   ]
  },
  {
   "cell_type": "code",
   "execution_count": 167,
   "metadata": {},
   "outputs": [
    {
     "data": {
      "text/html": [
       "<div>\n",
       "<style scoped>\n",
       "    .dataframe tbody tr th:only-of-type {\n",
       "        vertical-align: middle;\n",
       "    }\n",
       "\n",
       "    .dataframe tbody tr th {\n",
       "        vertical-align: top;\n",
       "    }\n",
       "\n",
       "    .dataframe thead th {\n",
       "        text-align: right;\n",
       "    }\n",
       "</style>\n",
       "<table border=\"1\" class=\"dataframe\">\n",
       "  <thead>\n",
       "    <tr style=\"text-align: right;\">\n",
       "      <th></th>\n",
       "      <th>id</th>\n",
       "      <th>farm_id</th>\n",
       "      <th>mill_id</th>\n",
       "      <th>created_at</th>\n",
       "      <th>updated_at</th>\n",
       "    </tr>\n",
       "  </thead>\n",
       "  <tbody>\n",
       "  </tbody>\n",
       "</table>\n",
       "</div>"
      ],
      "text/plain": [
       "Empty DataFrame\n",
       "Columns: [id, farm_id, mill_id, created_at, updated_at]\n",
       "Index: []"
      ]
     },
     "execution_count": 167,
     "metadata": {},
     "output_type": "execute_result"
    }
   ],
   "source": [
    "q2 = \"SELECT * FROM farm_mills\"\n",
    "df_farm_mills = getDataFromDB(engine, q2)\n",
    "df_farm_mills"
   ]
  },
  {
   "cell_type": "code",
   "execution_count": 65,
   "metadata": {},
   "outputs": [],
   "source": [
    "df_kebun = koboCsvData(form['api_url'], form['username'], form['password'])\n",
    "df_kebun = df_kebun.replace(['inf', 'Infinity', '-inf', '-Infinity'], np.nan)"
   ]
  },
  {
   "cell_type": "code",
   "execution_count": 168,
   "metadata": {},
   "outputs": [],
   "source": [
    "new = []\n",
    "new_farm_mills = []\n",
    "index = 1\n",
    "for i in range(df_kebun.shape[0]):\n",
    "    new_row = {\n",
    "        \"id\": df_kebun['_id'].values[i],\n",
    "        \"username\":  df_kebun['username'].values[1],\n",
    "        \"interName\": df_kebun['enumInfo/interName'].values[i],\n",
    "        \"surveyDate\": df_kebun['enumInfo/surveyDate'].values[i],\n",
    "        \"farmerName\": df_kebun['farmerInfo/farmerName'].values[i],\n",
    "        \"farmer_phone\": df_kebun['farmerInfo/farmer_phone'].values[i],\n",
    "        \"ownership\": 1 if df_kebun['farmerInfo/ownership'].values[i] == 'yes' else 0,\n",
    "        \"ownerName\": df_kebun['farmerInfo/ownerName'].values[i],\n",
    "        \"owner_phone\": df_kebun['farmerInfo/owner_phone'].values[i],\n",
    "        \"district_id\": df_kebun['farmerAddress/farmerDistrict'].values[i],\n",
    "        \"sub_district_id\": df_kebun['farmerAddress/farmerSubdistrict'].values[i],\n",
    "        \"village_id\": df_kebun['farmerAddress/farmerVillage'].values[i],\n",
    "        \"address\": df_kebun['farmerAddress/detailAddress'].values[i],\n",
    "        \"plant_age\": df_kebun['plantationInfo/plant_age'].values[i],\n",
    "        \"plant_areaDoc\": df_kebun['plantationInfo/plant_areaDoc'].values[i],\n",
    "        \"plant_doc\": df_kebun['plantationInfo/plant_doc'].values[i],\n",
    "        \"plant_category\": df_kebun['plantationInfo/plant_category'].values[i],\n",
    "        \"seedcert\": df_kebun['plantationInfo/seedcert'].values[i],\n",
    "        \"seedsource\": df_kebun['plantationInfo/seedsource'].values[i],\n",
    "        \"seedsourceother\": df_kebun['plantationInfo/seedsourceother'].values[i],\n",
    "        \"seed_invoice\": df_kebun['plantationInfo/seed_invoice'].values[i],\n",
    "        \"yield_minKG\": df_kebun['plantationProd/yield_minKG'].values[i],\n",
    "        \"yield_maxKG\": df_kebun['plantationProd/yield_maxKG'].values[i],\n",
    "        \"yield_meanKG\": df_kebun['plantationProd/yield_meanKG'].values[i],\n",
    "        \"yield_meanTon\": df_kebun['plantationProd/yield_meanTon'].values[i],\n",
    "        \"harvest_period\": df_kebun['plantationProd/harvest_period'].values[i],\n",
    "        \"harvest_freqYear\": df_kebun['plantationProd/harvest_freqYear'].values[i],\n",
    "        \"plant_production\": df_kebun['plantationProd/plant_production'].values[i],\n",
    "        \"plant_productivity\": df_kebun['plantationProd/plant_productivity'].values[i],\n",
    "        \"millsNumber\": df_kebun['millsNumber'].values[i],\n",
    "        \"plant_point\": df_kebun['plantation/plant_point'].values[i],\n",
    "        \"plant_polygon\": df_kebun['plantation/plant_polygon'].values[i],\n",
    "        \"plant_polyAreaM2\": df_kebun['plantation/plant_polyAreaM2'].values[i],\n",
    "        \"plant_polyAreaHa\": df_kebun['plantation/plant_polyAreaHa'].values[i],\n",
    "        \"percent_difArea\": df_kebun['plantation/percent_difArea'].values[i],\n",
    "        \"image_url\": df_kebun['_attachments'].values[i][0]['download_url'],\n",
    "        \"submission_time\": pd.to_datetime(df_kebun['_submission_time'].values[i]).strftime('%Y-%m-%d %H:%M:%S'),\n",
    "        \"kobo_connections_id\": form['id'],\n",
    "        \"created_at\": pd.Timestamp.now().strftime('%Y-%m-%d %H:%M:%S'),\n",
    "        \"updated_at\": pd.Timestamp.now().strftime('%Y-%m-%d %H:%M:%S')\n",
    "    }  # Adjust column names and values\n",
    "    new.append(new_row)\n",
    "\n",
    "    n = len(df_kebun['numMills'][i])\n",
    "    m = df_kebun['numMills'][i]\n",
    "    for j in range(n):\n",
    "        new_mills_row = {\n",
    "            \"id\": index,\n",
    "            \"farm_id\": m[j]['numMills/traceability/millDistrict'],\n",
    "            \"mill_id\": m[j]['numMills/traceability/millsTo'],\n",
    "            \"created_at\": pd.Timestamp.now().strftime('%Y-%m-%d %H:%M:%S'),\n",
    "            \"updated_at\": pd.Timestamp.now().strftime('%Y-%m-%d %H:%M:%S')\n",
    "        }\n",
    "        new_farm_mills.append(new_mills_row)\n",
    "        index = index + 1\n",
    "\n",
    "new_df = pd.DataFrame(new)\n",
    "df_farms = pd.concat([df_farms, new_df], ignore_index=True)\n",
    "\n",
    "new_mill_df = pd.DataFrame(new_farm_mills)\n",
    "df_farm_mills = pd.concat([df_farm_mills, new_mill_df], ignore_index=True)"
   ]
  },
  {
   "cell_type": "code",
   "execution_count": 139,
   "metadata": {},
   "outputs": [
    {
     "data": {
      "text/plain": [
       "313"
      ]
     },
     "execution_count": 139,
     "metadata": {},
     "output_type": "execute_result"
    }
   ],
   "source": [
    "df_farms.to_sql('farms', engine, if_exists='append', index=False)"
   ]
  },
  {
   "cell_type": "code",
   "execution_count": 144,
   "metadata": {},
   "outputs": [
    {
     "data": {
      "text/plain": [
       "[{'numMills/traceability/millDistrict': 'ID6403',\n",
       "  'numMills/traceability/millsTo': 'PO1000008233',\n",
       "  'numMills/traceability/millsRSPO': 'Not RSPO Certified'},\n",
       " {'numMills/traceability/millDistrict': 'ID6403',\n",
       "  'numMills/traceability/millsTo': 'PO1000014622',\n",
       "  'numMills/traceability/millsRSPO': 'Not RSPO Certified'},\n",
       " {'numMills/traceability/millDistrict': 'ID6403',\n",
       "  'numMills/traceability/millsTo': 'PO1000001488',\n",
       "  'numMills/traceability/millsRSPO': 'Not RSPO Certified'}]"
      ]
     },
     "execution_count": 144,
     "metadata": {},
     "output_type": "execute_result"
    }
   ],
   "source": [
    "df_kebun['numMills'][0]"
   ]
  },
  {
   "cell_type": "code",
   "execution_count": 169,
   "metadata": {},
   "outputs": [],
   "source": [
    "df_farm_mills = df_farm_mills.drop('id', axis=1)"
   ]
  },
  {
   "cell_type": "code",
   "execution_count": 170,
   "metadata": {},
   "outputs": [
    {
     "data": {
      "text/plain": [
       "399"
      ]
     },
     "execution_count": 170,
     "metadata": {},
     "output_type": "execute_result"
    }
   ],
   "source": [
    "df_farm_mills.to_sql('farm_mills', engine, if_exists='append', index=False)"
   ]
  }
 ],
 "metadata": {
  "kernelspec": {
   "display_name": "ds_bootcamp",
   "language": "python",
   "name": "python3"
  },
  "language_info": {
   "codemirror_mode": {
    "name": "ipython",
    "version": 3
   },
   "file_extension": ".py",
   "mimetype": "text/x-python",
   "name": "python",
   "nbconvert_exporter": "python",
   "pygments_lexer": "ipython3",
   "version": "3.11.8"
  }
 },
 "nbformat": 4,
 "nbformat_minor": 2
}
